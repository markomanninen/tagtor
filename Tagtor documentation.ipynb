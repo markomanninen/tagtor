{
 "metadata": {
  "name": ""
 },
 "nbformat": 3,
 "nbformat_minor": 0,
 "worksheets": [
  {
   "cells": [
    {
     "cell_type": "markdown",
     "metadata": {},
     "source": [
      "# Tagtor - XML/HTML tag generator/factory documentation\n",
      "\n",
      "## Design notes\n",
      "\n",
      "Purpose is to create a simple html generator for Python. Few other generators have been available since decade but they all seems to have small caveats. However combining features I've managed to create a library that fits better to my own projects.\n",
      "\n",
      "Problems:\n",
      "\n",
      "1. Some libraries use awkward CAPITAL letters, convention derived from early age of internet. I prefer small letters on tag and attribute names as specified on xhtml standard.\n",
      "2. Reserved words in Python language limits using some tag and tag attribute names. This has been tackled by allowing usage of CAPITAL letters on helper interface, but on the background letters are forced to lowercase. This however can be passed by using tag.setName and tag.setAttribute -methods. In this manner you can set any [html standard](http://www.w3.org/TR/2000/REC-xml-20001006#NT-Name) tag and attribute name on the document like `<my-tag dc:attr=\"\" />`\n",
      "3. I don't want to limit tags to html4 tag names only, but allow practically any tag name. See above.\n",
      "4. Sometimes content is transformed to html entities, which should not occur until very end of the business logic.\n",
      "\n",
      "Other requirements:\n",
      "\n",
      "As simple implementation as possible, no need for complicated page generation methods, just basic functionality. Extending tags for structures like table and lists. Nesting tags and giving attribute names should be clean and intuitive. Pythonic.\n"
     ]
    },
    {
     "cell_type": "heading",
     "level": 2,
     "metadata": {},
     "source": [
      "Base class"
     ]
    },
    {
     "cell_type": "code",
     "collapsed": false,
     "input": [
      "class TAG(object):\n",
      "    def __init__(self, *args, **kw):\n",
      "        pass\n",
      "\n",
      "    def getName(self):\n",
      "        pass\n",
      "    def setName(self, name):\n",
      "        pass\n",
      "\n",
      "    def getAttribute(self, key):\n",
      "        pass\n",
      "    def setAttribute(self, key, value):\n",
      "        pass\n",
      "\n",
      "    def rcontent(self, item):\n",
      "        pass\n",
      "    def content(self, item):\n",
      "        pass\n",
      "\n",
      "    def prepend(self, item):\n",
      "        pass\n",
      "    def append(self, item):\n",
      "        pass"
     ],
     "language": "python",
     "metadata": {},
     "outputs": [],
     "prompt_number": 1
    },
    {
     "cell_type": "heading",
     "level": 2,
     "metadata": {},
     "source": [
      "Helper"
     ]
    },
    {
     "cell_type": "code",
     "collapsed": false,
     "input": [
      "class htmlHelper(object):\n",
      "    def __getattr__(self, tag):\n",
      "        pass"
     ],
     "language": "python",
     "metadata": {},
     "outputs": [],
     "prompt_number": 2
    },
    {
     "cell_type": "heading",
     "level": 2,
     "metadata": {},
     "source": [
      "Table"
     ]
    },
    {
     "cell_type": "code",
     "collapsed": false,
     "input": [
      "def table(*args, **kw):\n",
      "    global helper\n",
      "    class table(type(helper.table())):\n",
      "        def __init__(self, *args, **kw):\n",
      "            pass\n",
      "        \n",
      "        def addCaption(self, caption, **kw):\n",
      "            pass\n",
      "        \n",
      "        def addColGroup(self, *cols, **kw):\n",
      "            pass\n",
      "        \n",
      "        def addHeadRow(self, *trs, **kw):\n",
      "            pass\n",
      "        \n",
      "        def addFootRow(self, *trs, **kw):\n",
      "            pass\n",
      "        \n",
      "        def addBodyRow(self, *trs, **kw):\n",
      "            pass\n",
      "        \n",
      "        def addBodyRows(self, *trs, **kw):\n",
      "            pass\n",
      "    \n",
      "    return table(*args, **kw)\n",
      "\n",
      "helper = htmlHelper()"
     ],
     "language": "python",
     "metadata": {},
     "outputs": [],
     "prompt_number": 3
    },
    {
     "cell_type": "heading",
     "level": 2,
     "metadata": {},
     "source": [
      "Usage"
     ]
    },
    {
     "cell_type": "code",
     "collapsed": false,
     "input": [
      "from tagtor import helper as h"
     ],
     "language": "python",
     "metadata": {},
     "outputs": [],
     "prompt_number": 4
    },
    {
     "cell_type": "code",
     "collapsed": false,
     "input": [
      "# introducing the main flow of the nesting tags\n",
      "print h.html(h.head(h.title(\"Simple html document\")), h.body(\"Content\"))"
     ],
     "language": "python",
     "metadata": {},
     "outputs": [
      {
       "output_type": "stream",
       "stream": "stdout",
       "text": [
        "<html><head><title>Simple html document</title></head><body>Content</body></html>\n"
       ]
      }
     ],
     "prompt_number": 5
    },
    {
     "cell_type": "code",
     "collapsed": false,
     "input": [
      "# a tag without content will be output as a short tag form\n",
      "print h.br()"
     ],
     "language": "python",
     "metadata": {},
     "outputs": [
      {
       "output_type": "stream",
       "stream": "stdout",
       "text": [
        "<br/>\n"
       ]
      }
     ],
     "prompt_number": 6
    },
    {
     "cell_type": "code",
     "collapsed": false,
     "input": [
      "# if you pass empty string on tag content, closing tag will be generated\n",
      "print h.script('')"
     ],
     "language": "python",
     "metadata": {},
     "outputs": [
      {
       "output_type": "stream",
       "stream": "stdout",
       "text": [
        "<script></script>\n"
       ]
      }
     ],
     "prompt_number": 7
    },
    {
     "cell_type": "code",
     "collapsed": false,
     "input": [
      "# content can be a string, a numeric or other tag elements\n",
      "print h.h1(\"Header \", 1, h.span(\".1\"))"
     ],
     "language": "python",
     "metadata": {},
     "outputs": [
      {
       "output_type": "stream",
       "stream": "stdout",
       "text": [
        "<h1>Header 1<span>.1</span></h1>\n"
       ]
      }
     ],
     "prompt_number": 8
    },
    {
     "cell_type": "code",
     "collapsed": false,
     "input": [
      "# providing other content can yield unexpected results because all will be string normalized\n",
      "print h.div([0,1], {'k': h.b()})"
     ],
     "language": "python",
     "metadata": {},
     "outputs": [
      {
       "output_type": "stream",
       "stream": "stdout",
       "text": [
        "<div>[0, 1]{'k': <tagtor.main.b object at 0x00000000050CF668>}</div>\n"
       ]
      }
     ],
     "prompt_number": 9
    },
    {
     "cell_type": "code",
     "collapsed": false,
     "input": [
      "# content can be callable\n",
      "print h.p(h.br)"
     ],
     "language": "python",
     "metadata": {},
     "outputs": [
      {
       "output_type": "stream",
       "stream": "stdout",
       "text": [
        "<p><br/></p>\n"
       ]
      }
     ],
     "prompt_number": 10
    },
    {
     "cell_type": "code",
     "collapsed": false,
     "input": [
      "# as said, content can be callable\n",
      "def ul():\n",
      "    return h.ul(h.li)\n",
      "print h.div(ul)"
     ],
     "language": "python",
     "metadata": {},
     "outputs": [
      {
       "output_type": "stream",
       "stream": "stdout",
       "text": [
        "<div><ul><li/></ul></div>\n"
       ]
      }
     ],
     "prompt_number": 11
    },
    {
     "cell_type": "code",
     "collapsed": false,
     "input": [
      "# adding more content inside the element\n",
      "# special operator here << is same as tag.content method\n",
      "h1 = h.h1('Header')\n",
      "h1 << \" 1.\"\n",
      "h1 << h.span(\"2\")\n",
      "print h1"
     ],
     "language": "python",
     "metadata": {},
     "outputs": [
      {
       "output_type": "stream",
       "stream": "stdout",
       "text": [
        "<h1>Header 1.<span>2</span></h1>\n"
       ]
      }
     ],
     "prompt_number": 12
    },
    {
     "cell_type": "code",
     "collapsed": false,
     "input": [
      "# adding more content inside the element\n",
      "# special operator here >> is same as tag.rcontent method (reverse side content)\n",
      "h1 = h.h1('Header')\n",
      "h1 >> \".2 \"\n",
      "h1 >> h.span(\"1\")\n",
      "print h1"
     ],
     "language": "python",
     "metadata": {},
     "outputs": [
      {
       "output_type": "stream",
       "stream": "stdout",
       "text": [
        "<h1><span>1</span>.2 Header</h1>\n"
       ]
      }
     ],
     "prompt_number": 13
    },
    {
     "cell_type": "code",
     "collapsed": false,
     "input": [
      "# see also\n",
      "print h.a() << h.b() << h.c()\n",
      "print h.a() >> h.b() >> h.c()"
     ],
     "language": "python",
     "metadata": {},
     "outputs": [
      {
       "output_type": "stream",
       "stream": "stdout",
       "text": [
        "<a><b/><c/></a>\n",
        "<a><c/><b/></a>\n"
       ]
      }
     ],
     "prompt_number": 14
    },
    {
     "cell_type": "code",
     "collapsed": false,
     "input": [
      "# adding more content outside the element, right side\n",
      "h1 = h.h1()\n",
      "h1 += h.h2() #h1 = h1 + h.h2()\n",
      "h1 += h.h3() #h1 = h1 + h.h3()\n",
      "print h1"
     ],
     "language": "python",
     "metadata": {},
     "outputs": [
      {
       "output_type": "stream",
       "stream": "stdout",
       "text": [
        "<h1/><h2/><h3/>\n"
       ]
      }
     ],
     "prompt_number": 15
    },
    {
     "cell_type": "code",
     "collapsed": false,
     "input": [
      "# adding more content outside the element, left side\n",
      "h1 = h.h1()\n",
      "h1 = h.h2() + h1\n",
      "h1 = h.h3() + h1\n",
      "print h1"
     ],
     "language": "python",
     "metadata": {},
     "outputs": [
      {
       "output_type": "stream",
       "stream": "stdout",
       "text": [
        "<h3/><h2/><h1/>\n"
       ]
      }
     ],
     "prompt_number": 16
    },
    {
     "cell_type": "code",
     "collapsed": false,
     "input": [
      "# chain add elements\n",
      "print h.h1() + h.h2() + h.h3()\n",
      "# note that adding instance to the same instance causes recursive loop on string normalization\n",
      "#h1 = h.h1()\n",
      "#print h1 + h1 + h1 -> Runtime error"
     ],
     "language": "python",
     "metadata": {},
     "outputs": [
      {
       "output_type": "stream",
       "stream": "stdout",
       "text": [
        "<h1/><h2/><h3/>\n"
       ]
      }
     ],
     "prompt_number": 17
    },
    {
     "cell_type": "code",
     "collapsed": false,
     "input": [
      "# chain arguments\n",
      "print h.h1(h.span(), h.span(), h.span())"
     ],
     "language": "python",
     "metadata": {},
     "outputs": [
      {
       "output_type": "stream",
       "stream": "stdout",
       "text": [
        "<h1><span/><span/><span/></h1>\n"
       ]
      }
     ],
     "prompt_number": 18
    },
    {
     "cell_type": "code",
     "collapsed": false,
     "input": [
      "# chain arguments by list\n",
      "print h.h1(*[h.span, h.span, h.span])"
     ],
     "language": "python",
     "metadata": {},
     "outputs": [
      {
       "output_type": "stream",
       "stream": "stdout",
       "text": [
        "<h1><span/><span/><span/></h1>\n"
       ]
      }
     ],
     "prompt_number": 19
    },
    {
     "cell_type": "code",
     "collapsed": false,
     "input": [
      "# add attributes\n",
      "print h.div(id=\"container\", title=\"Content container\")"
     ],
     "language": "python",
     "metadata": {},
     "outputs": [
      {
       "output_type": "stream",
       "stream": "stdout",
       "text": [
        "<div id=\"container\" title=\"Content container\"/>\n"
       ]
      }
     ],
     "prompt_number": 20
    },
    {
     "cell_type": "code",
     "collapsed": false,
     "input": [
      "# add attributes by dictionary\n",
      "print h.div(**{'id': \"container\", 'title':\"Content container\"})"
     ],
     "language": "python",
     "metadata": {},
     "outputs": [
      {
       "output_type": "stream",
       "stream": "stdout",
       "text": [
        "<div id=\"container\" title=\"Content container\"/>\n"
       ]
      }
     ],
     "prompt_number": 21
    },
    {
     "cell_type": "code",
     "collapsed": false,
     "input": [
      "# using python reserved words can be tackled with uppercase letters or capitalization\n",
      "# h.del or h.tag(class=\"\") doesn't work but gives parse error. instead use something like:\n",
      "print h.DEL(Class=\"reserved\")"
     ],
     "language": "python",
     "metadata": {},
     "outputs": [
      {
       "output_type": "stream",
       "stream": "stdout",
       "text": [
        "<del class=\"reserved\"/>\n"
       ]
      }
     ],
     "prompt_number": 22
    },
    {
     "cell_type": "code",
     "collapsed": false,
     "input": [
      "# but if you really want uppercase tag names or attributes, you can always use setName and setAttribute methods\n",
      "print h.tag().setName('DEL').setAttribute('Class', 'reserved')"
     ],
     "language": "python",
     "metadata": {},
     "outputs": [
      {
       "output_type": "stream",
       "stream": "stdout",
       "text": [
        "<DEL Class=\"reserved\"/>\n"
       ]
      }
     ],
     "prompt_number": 23
    },
    {
     "cell_type": "code",
     "collapsed": false,
     "input": [
      "# special attribute and tag names can be handled with setters.\n",
      "# h.my-tag(dc:name = \"special\") doesn't work because of naming convention rules on python\n",
      "# so you need to do:\n",
      "print h.tag(\"content\").setName('my-tag').setAttribute('dc:name', 'special')"
     ],
     "language": "python",
     "metadata": {},
     "outputs": [
      {
       "output_type": "stream",
       "stream": "stdout",
       "text": [
        "<my-tag dc:name=\"special\">content</my-tag>\n"
       ]
      }
     ],
     "prompt_number": 24
    },
    {
     "cell_type": "heading",
     "level": 2,
     "metadata": {},
     "source": [
      "Table extension class"
     ]
    },
    {
     "cell_type": "code",
     "collapsed": false,
     "input": [
      "# sure you can make tables with core table tags\n",
      "tbl = h.table(CLASS=\"data\")\n",
      "tbl << h.thead(h.tr(*map(h.th, [1,2,3])))\n",
      "tbl << h.tbody(*[h.tr(*map(h.td, [\"1.%s\"%i,\"2.%s\"%i,\"3.%s\"%i])) for i in [1,2,3]])\n",
      "\n",
      "print tbl"
     ],
     "language": "python",
     "metadata": {},
     "outputs": [
      {
       "output_type": "stream",
       "stream": "stdout",
       "text": [
        "<table class=\"data\"><thead><tr><th>1</th><th>2</th><th>3</th></tr></thead><tbody><tr><td>1.1</td><td>2.1</td><td>3.1</td></tr><tr><td>1.2</td><td>2.2</td><td>3.2</td></tr><tr><td>1.3</td><td>2.3</td><td>3.3</td></tr></tbody></table>\n"
       ]
      }
     ],
     "prompt_number": 25
    },
    {
     "cell_type": "code",
     "collapsed": false,
     "input": [
      "from IPython.display import HTML\n",
      "HTML(str(tbl))"
     ],
     "language": "python",
     "metadata": {},
     "outputs": [
      {
       "html": [
        "<table class=\"data\"><thead><tr><th>1</th><th>2</th><th>3</th></tr></thead><tbody><tr><td>1.1</td><td>2.1</td><td>3.1</td></tr><tr><td>1.2</td><td>2.2</td><td>3.2</td></tr><tr><td>1.3</td><td>2.3</td><td>3.3</td></tr></tbody></table>"
       ],
       "metadata": {},
       "output_type": "pyout",
       "prompt_number": 26,
       "text": [
        "<IPython.core.display.HTML at 0x50cf5c0>"
       ]
      }
     ],
     "prompt_number": 26
    },
    {
     "cell_type": "code",
     "collapsed": false,
     "input": [
      "# but using special table factory function structuring table is easier\n",
      "from tagtor import table\n",
      "\n",
      "# initialize table\n",
      "t = table(**{'id': 'data'})\n",
      "\n",
      "# add caption title\n",
      "t.addCaption('Caption')\n",
      "\n",
      "columns = [{'style': 'background-color: red'},\n",
      "           {'style': 'background-color: green'},\n",
      "           {'style': 'background-color: blue'}]\n",
      "\n",
      "# add column definitions\n",
      "t.addColGroup(*[h.col(**attr) for attr in columns])\n",
      "\n",
      "header = ['Column 1', 'Column 2', 'Column 3']\n",
      "\n",
      "# add header row with column titles\n",
      "t.addHeadRow(h.tr(*map(h.th, header)))\n",
      "\n",
      "# add body rows\n",
      "for i in range(1,3):\n",
      "    t.addBodyRow(h.tr(*map(h.td, [\"1.%s\"%i,\"2.%s\"%i,\"3.%s\"%i])))\n",
      "\n",
      "# add separate bodies with rows\n",
      "for i in range(3,5):\n",
      "    t.addBodyRows(h.tr(*map(h.td, [\"1.%s\"%i,\"2.%s\"%i,\"3.%s\"%i])), id='tbody%s'%i)\n",
      "\n",
      "# add footer row\n",
      "t.addFootRow(h.tr(h.td('footer', colspan=\"3\")))\n",
      "\n",
      "HTML(str(t))"
     ],
     "language": "python",
     "metadata": {},
     "outputs": [
      {
       "html": [
        "<table id=\"data\"><caption>Caption</caption><colgroup><col style=\"background-color: red\"/><col style=\"background-color: green\"/><col style=\"background-color: blue\"/></colgroup><thead><tr><th>Column 1</th><th>Column 2</th><th>Column 3</th></tr></thead><tfoot><tr><td colspan=\"3\">footer</td></tr></tfoot><tbody><tr><td>1.1</td><td>2.1</td><td>3.1</td></tr><tr><td>1.2</td><td>2.2</td><td>3.2</td></tr></tbody><tbody id=\"tbody3\"><tr><td>1.3</td><td>2.3</td><td>3.3</td></tr></tbody><tbody id=\"tbody4\"><tr><td>1.4</td><td>2.4</td><td>3.4</td></tr></tbody></table>"
       ],
       "metadata": {},
       "output_type": "pyout",
       "prompt_number": 27,
       "text": [
        "<IPython.core.display.HTML at 0x50e6208>"
       ]
      }
     ],
     "prompt_number": 27
    },
    {
     "cell_type": "heading",
     "level": 3,
     "metadata": {},
     "source": [
      "Some styles for table"
     ]
    },
    {
     "cell_type": "code",
     "collapsed": false,
     "input": [
      "style = \"\"\"\n",
      "<style type=\"text/css\">\n",
      "table#data { margin: 1em auto; border-collapse: collapse; border: 0} \n",
      "table#data caption { font-size: 1.2em; text-align: center; padding: 3px} \n",
      "table#data th, table#data td { padding: .25em; border: 1px solid #000; font-family: sans-serif; color: white} \n",
      "table#data th { color: #004900; font-weight: bold; text-align: left; } \n",
      "table#data thead th { border-bottom: 3px double #000; background-color: #ddd; text-align: center; } \n",
      "table#data tfoot td { border-top: 3px double #000; color: #fff; font-style: italic; font-size: .8em; text-align: center; background-color: brown} \n",
      "table#data tbody th { color: #000; }\n",
      "table#data #tbody3 {font-weight: bold;font-size: 1.5em;}\n",
      "table#data #tbody4 {font-style: italic;}\n",
      "</style>\n",
      "\"\"\"\n",
      "HTML(style)"
     ],
     "language": "python",
     "metadata": {},
     "outputs": [
      {
       "html": [
        "\n",
        "<style type=\"text/css\">\n",
        "table#data { margin: 1em auto; border-collapse: collapse; border: 0} \n",
        "table#data caption { font-size: 1.2em; text-align: center; padding: 3px} \n",
        "table#data th, table#data td { padding: .25em; border: 1px solid #000; font-family: sans-serif; color: white} \n",
        "table#data th { color: #004900; font-weight: bold; text-align: left; } \n",
        "table#data thead th { border-bottom: 3px double #000; background-color: #ddd; text-align: center; } \n",
        "table#data tfoot td { border-top: 3px double #000; color: #fff; font-style: italic; font-size: .8em; text-align: center; background-color: brown} \n",
        "table#data tbody th { color: #000; }\n",
        "table#data #tbody3 {font-weight: bold;font-size: 1.5em;}\n",
        "table#data #tbody4 {font-style: italic;}\n",
        "</style>\n"
       ],
       "metadata": {},
       "output_type": "pyout",
       "prompt_number": 28,
       "text": [
        "<IPython.core.display.HTML at 0x50e33c8>"
       ]
      }
     ],
     "prompt_number": 28
    },
    {
     "cell_type": "markdown",
     "metadata": {},
     "source": [
      "## Tests\n",
      "\n",
      "See [test cases]() notebook."
     ]
    },
    {
     "cell_type": "markdown",
     "metadata": {},
     "source": [
      "## The [MIT](http://choosealicense.com/licenses/mit/) License\n",
      "\n",
      "Copyright (c) 2014 Marko Manninen"
     ]
    }
   ],
   "metadata": {}
  }
 ]
}