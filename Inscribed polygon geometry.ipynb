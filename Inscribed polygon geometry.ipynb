{
 "metadata": {
  "name": ""
 },
 "nbformat": 3,
 "nbformat_minor": 0,
 "worksheets": [
  {
   "cells": [
    {
     "cell_type": "markdown",
     "metadata": {},
     "source": [
      "# Inscribed polygon geometry\n",
      "\n",
      "Define polygon side, perimeter and area functions:"
     ]
    },
    {
     "cell_type": "code",
     "collapsed": false,
     "input": [
      "from numpy import pi, sqrt, sin, cos\n",
      "\n",
      "# http://www.efunda.com/math/areas/polygoninscribedgen.cfm\n",
      "# Area of an equal sided polygon with given radius and number of sides\n",
      "def polygon_area(r, n):\n",
      "    return n*r**2/2*sin(2*pi/n)\n",
      "\n",
      "# Perimeter of an equal sided polygon with given radius and number of sides\n",
      "def polygon_perimeter(r, n):\n",
      "    return 2*n*r*sin(pi/n)\n",
      "\n",
      "# Side length of an equal sided polygon with given radius and number of sides\n",
      "def polygon_side(r, n):\n",
      "    return polygon_perimeter(r, n) / n\n",
      "\n",
      "# http://stackoverflow.com/questions/23679130/polygon-area-perimeter-and-side-length-around-the-circle-with-python\n",
      "# Area of an equal sided polygon with given radius and number of sides\n",
      "def polygon_area_outer(r, n):\n",
      "    return polygon_area(r, n) / cos(pi/n)**2\n",
      "\n",
      "# Perimeter of an equal sided polygon with given radius and number of sides\n",
      "def polygon_perimeter_outer(r, n):\n",
      "    return polygon_perimeter(r, n) / cos(pi/n)\n",
      "\n",
      "# Side length of an equal sided polygon with given radius and number of sides\n",
      "def polygon_side_outer(r, n):\n",
      "    return polygon_perimeter_outer(r, n) / n\n"
     ],
     "language": "python",
     "metadata": {},
     "outputs": [],
     "prompt_number": 1
    },
    {
     "cell_type": "markdown",
     "metadata": {},
     "source": [
      "Calculate properties of a circle:"
     ]
    },
    {
     "cell_type": "code",
     "collapsed": false,
     "input": [
      "#pi = 22/7.\n",
      "sqrt2 = sqrt(2) #99/70.\n",
      "sqrt3 = sqrt(3) #265/153.\n",
      "\n",
      "radius = 50.4\n",
      "\n",
      "diameter = 2*radius\n",
      "perimeter = diameter*pi\n",
      "area = radius**2*pi\n",
      "\n",
      "print \"With given radius we get:\"\n",
      "print\n",
      "print \"diameter:\", diameter\n",
      "print \"perimeter:\", perimeter\n",
      "print \"area:\", area"
     ],
     "language": "python",
     "metadata": {},
     "outputs": [
      {
       "output_type": "stream",
       "stream": "stdout",
       "text": [
        "With given radius we get:\n",
        "\n",
        "diameter: 100.8\n",
        "perimeter: 316.672539482\n",
        "area: 7980.14799494\n"
       ]
      }
     ],
     "prompt_number": 2
    },
    {
     "cell_type": "markdown",
     "metadata": {},
     "source": [
      "Import SVG helper and define basic svg draw function as well as circle drawing function for later repetitious use."
     ]
    },
    {
     "cell_type": "code",
     "collapsed": false,
     "input": [
      "from tagtor import helper as h, svg\n",
      "from IPython.display import HTML\n",
      "\n",
      "color = \"green\"\n",
      "\n",
      "def get_svg():\n",
      "    # making sure original svg helper is used instead of accidental\n",
      "    # overrided instance with a same name\n",
      "    from tagtor import svg\n",
      "    # http://www-archive.mozilla.org/projects/svg/faq.html\n",
      "    s = svg(version=1.1, xmlns=\"http://www.w3.org/2000/svg\").set_axes().set_grid()\n",
      "    s.setAttribute(\"xmlns:xlink\", \"http://www.w3.org/1999/xlink\")\n",
      "    # set up a grid and size for the svg canvas\n",
      "    # with 4 main parts having a grid of 7 smaller parts\n",
      "    grid_aspects = (4,7)\n",
      "    size = grid_aspects[0]*radius\n",
      "    # drawing area (canvas) could be a rectangle with different width and height\n",
      "    # but here we create a simple square like grid\n",
      "    s.set_size(size, size)\n",
      "    s.grid_aspects = grid_aspects\n",
      "    return s\n",
      "\n",
      "def set_center_circle(s, radius):\n",
      "    s.set_circle(r=radius, fill=color, stroke=color, style=\"fill-opacity: 50%\")"
     ],
     "language": "python",
     "metadata": {},
     "outputs": [],
     "prompt_number": 3
    },
    {
     "cell_type": "markdown",
     "metadata": {},
     "source": [
      "Draw a circle with a background grid:"
     ]
    },
    {
     "cell_type": "code",
     "collapsed": false,
     "input": [
      "s = get_svg()\n",
      "s.origin = True\n",
      "set_center_circle(s, radius)\n",
      "\n",
      "# degrees\n",
      "d = 144\n",
      "x = cos(pi*d/180)*radius\n",
      "y = sin(pi*d/180)*radius\n",
      "\n",
      "s.set_circle(cx=x, cy=y, r=2, fill=\"black\", stroke=\"black\", style=\"fill-opacity: 50%\")\n",
      "s.set_text(\"(0,%s)\" % radius, x=x-20, y=y+10, style=\"fill-opacity: 50%\")\n",
      "s.set_line(x1=0, y1=0, x2=x, y2=y, stroke=\"black\", style=\"fill-opacity: 50%\")\n",
      "\n",
      "s"
     ],
     "language": "python",
     "metadata": {},
     "outputs": [
      {
       "html": [
        "<svg xmlns=\"http://www.w3.org/2000/svg\" height=\"201.6\" width=\"201.6\" version=\"1.1\" xmlns:xlink=\"http://www.w3.org/1999/xlink\" viewbox=\"0 0 202.6 202.6\"><defs><pattern width=\"7.2\" patternunits=\"userSpaceOnUse\" id=\"gitem4355184336\" height=\"7.2\"><path stroke=\"gray\" stroke-width=\"0.5\" d=\"M 7.2 0 L 0 0 0 7.2\" fill=\"none\"/></pattern><pattern width=\"50.4\" patternunits=\"userSpaceOnUse\" id=\"gid4355184336\" height=\"50.4\"><path stroke=\"gray\" stroke-width=\"1\" d=\"M 50.4 0 L 0 0 0 50.4\" fill=\"none\"/><rect width=\"50.4\" height=\"50.4\" fill=\"url(#gitem4355184336)\"/></pattern></defs><rect width=\"5080.32\" fill=\"white\" height=\"5080.32\"/><rect width=\"5080.32\" fill=\"url(#gid4355184336)\" height=\"5080.32\"/><line y1=\"0\" x2=\"100.8\" stroke=\"black\" x1=\"100.8\" y2=\"201.6\"/><line y1=\"100.8\" x2=\"201.6\" stroke=\"black\" x1=\"0\" y2=\"100.8\"/><circle style=\"fill-opacity: 50%\" cx=\"100.8\" stroke=\"black\" cy=\"100.8\" r=\"2\" fill=\"black\"/><text y=\"95.8\" x=\"105.8\" style=\"fill-opacity: 50%\">(0,0)</text><circle style=\"fill-opacity: 50%\" cx=\"100.8\" stroke=\"green\" cy=\"100.8\" r=\"50.4\" fill=\"green\"/><circle style=\"fill-opacity: 50%\" cx=\"60.0255434835\" stroke=\"black\" cy=\"71.1756232845\" r=\"2\" fill=\"black\"/><text y=\"61.1756232845\" x=\"40.0255434835\" style=\"fill-opacity: 50%\">(0,50.4)</text><line style=\"fill-opacity: 50%\" y2=\"71.1756232845\" x2=\"60.0255434835\" stroke=\"black\" y1=\"100.8\" x1=\"100.8\"/></svg>"
       ],
       "metadata": {},
       "output_type": "pyout",
       "prompt_number": 4,
       "text": [
        "<tagtor.svg.svg at 0x10396d6d0>"
       ]
      }
     ],
     "prompt_number": 4
    },
    {
     "cell_type": "markdown",
     "metadata": {},
     "source": [
      "## Five basic geometric figures\n",
      "\n",
      "Let's construct five basic geometric figures relative to the given circle:\n",
      "\n",
      "- equilateral triangle\n",
      "- square\n",
      "- pentagon\n",
      "- hexagon\n",
      "- septagon\n",
      "\n",
      "and calculate \n",
      "\n",
      "* side\n",
      "* perimeter\n",
      "* area\n",
      "\n",
      "of each figure. \n",
      "\n",
      "Geometric figure can be drawn inside and outside the circle. First we create inscribed polygons.\n",
      "\n",
      "### INNER"
     ]
    },
    {
     "cell_type": "code",
     "collapsed": false,
     "input": [
      "polygons = [[\"equilateral triangle\", 3],\n",
      "            [\"square\", 4],\n",
      "            [\"pentagon\", 5],\n",
      "            [\"hexagon\", 6]\n",
      "           ]\n",
      "\n",
      "for name, sides in polygons:\n",
      "    perii = polygon_perimeter(radius, sides)\n",
      "    print \n",
      "    print name, \"side\", perii / sides\n",
      "    print name, \"perimeter\", perii\n",
      "    print name, \"area\", polygon_area(radius, sides)"
     ],
     "language": "python",
     "metadata": {},
     "outputs": [
      {
       "output_type": "stream",
       "stream": "stdout",
       "text": [
        "\n",
        "equilateral triangle side 87.2953607015\n",
        "equilateral triangle perimeter 261.886082104\n",
        "equilateral triangle area 3299.76463452\n",
        "\n",
        "square side 71.2763635436\n",
        "square perimeter 285.105454174\n",
        "square area 5080.32\n",
        "\n",
        "pentagon side 59.2487534311\n",
        "pentagon perimeter 296.243767155\n",
        "pentagon area 6039.58930108\n",
        "\n",
        "hexagon side 50.4\n",
        "hexagon perimeter 302.4\n",
        "hexagon area 6599.52926903\n"
       ]
      }
     ],
     "prompt_number": 5
    },
    {
     "cell_type": "code",
     "collapsed": false,
     "input": [
      "# triangle\n",
      "s1 = get_svg()\n",
      "set_center_circle(s1, radius)\n",
      "s1.set_triangle(radius=radius, degrees=90, \n",
      "                style=\"fill:brown; stroke:brown; fill-opacity: 50%\")\n",
      "# square\n",
      "s2 = get_svg()\n",
      "set_center_circle(s2, radius)\n",
      "s2.set_square(radius=radius, degrees=0, \n",
      "              style=\"fill:blue; stroke:blue; fill-opacity: 50%\")\n",
      "\n",
      "# pentagon\n",
      "s3 = get_svg()\n",
      "set_center_circle(s3, radius)\n",
      "s3.set_pentagon(radius=radius, degrees=90, \n",
      "                style=\"fill:yellow; stroke:yellow; fill-opacity: 50%\")\n",
      "\n",
      "# hexagon\n",
      "s4 = get_svg()\n",
      "set_center_circle(s4, radius)\n",
      "s4.set_hexagon(radius=radius, degrees=90, \n",
      "               style=\"fill:purple; stroke:purple; fill-opacity: 50%\")\n",
      "\n",
      "s1+s2+s3+s4"
     ],
     "language": "python",
     "metadata": {},
     "outputs": [
      {
       "html": [
        "<svg xmlns=\"http://www.w3.org/2000/svg\" height=\"201.6\" width=\"201.6\" version=\"1.1\" xmlns:xlink=\"http://www.w3.org/1999/xlink\" viewbox=\"0 0 202.6 202.6\"><defs><pattern width=\"7.2\" patternunits=\"userSpaceOnUse\" id=\"gitem4355252688\" height=\"7.2\"><path stroke=\"gray\" stroke-width=\"0.5\" d=\"M 7.2 0 L 0 0 0 7.2\" fill=\"none\"/></pattern><pattern width=\"50.4\" patternunits=\"userSpaceOnUse\" id=\"gid4355252688\" height=\"50.4\"><path stroke=\"gray\" stroke-width=\"1\" d=\"M 50.4 0 L 0 0 0 50.4\" fill=\"none\"/><rect width=\"50.4\" height=\"50.4\" fill=\"url(#gitem4355252688)\"/></pattern></defs><rect width=\"5080.32\" fill=\"white\" height=\"5080.32\"/><rect width=\"5080.32\" fill=\"url(#gid4355252688)\" height=\"5080.32\"/><line y1=\"0\" x2=\"100.8\" stroke=\"black\" x1=\"100.8\" y2=\"201.6\"/><line y1=\"100.8\" x2=\"201.6\" stroke=\"black\" x1=\"0\" y2=\"100.8\"/><circle style=\"fill-opacity: 50%\" cx=\"100.8\" stroke=\"green\" cy=\"100.8\" r=\"50.4\" fill=\"green\"/><polygon style=\"fill:brown; stroke:brown; fill-opacity: 50%\" points=\"100.8,50.4 57.15,126.0 144.45,126.0\"/></svg><svg xmlns=\"http://www.w3.org/2000/svg\" height=\"201.6\" width=\"201.6\" version=\"1.1\" xmlns:xlink=\"http://www.w3.org/1999/xlink\" viewbox=\"0 0 202.6 202.6\"><defs><pattern width=\"7.2\" patternunits=\"userSpaceOnUse\" id=\"gitem4355253008\" height=\"7.2\"><path stroke=\"gray\" stroke-width=\"0.5\" d=\"M 7.2 0 L 0 0 0 7.2\" fill=\"none\"/></pattern><pattern width=\"50.4\" patternunits=\"userSpaceOnUse\" id=\"gid4355253008\" height=\"50.4\"><path stroke=\"gray\" stroke-width=\"1\" d=\"M 50.4 0 L 0 0 0 50.4\" fill=\"none\"/><rect width=\"50.4\" height=\"50.4\" fill=\"url(#gitem4355253008)\"/></pattern></defs><rect width=\"5080.32\" fill=\"white\" height=\"5080.32\"/><rect width=\"5080.32\" fill=\"url(#gid4355253008)\" height=\"5080.32\"/><line y1=\"0\" x2=\"100.8\" stroke=\"black\" x1=\"100.8\" y2=\"201.6\"/><line y1=\"100.8\" x2=\"201.6\" stroke=\"black\" x1=\"0\" y2=\"100.8\"/><circle style=\"fill-opacity: 50%\" cx=\"100.8\" stroke=\"green\" cy=\"100.8\" r=\"50.4\" fill=\"green\"/><polygon style=\"fill:blue; stroke:blue; fill-opacity: 50%\" points=\"151.2,100.8 100.8,50.4 50.4,100.8 100.8,151.2\"/></svg><svg xmlns=\"http://www.w3.org/2000/svg\" height=\"201.6\" width=\"201.6\" version=\"1.1\" xmlns:xlink=\"http://www.w3.org/1999/xlink\" viewbox=\"0 0 202.6 202.6\"><defs><pattern width=\"7.2\" patternunits=\"userSpaceOnUse\" id=\"gitem4344942800\" height=\"7.2\"><path stroke=\"gray\" stroke-width=\"0.5\" d=\"M 7.2 0 L 0 0 0 7.2\" fill=\"none\"/></pattern><pattern width=\"50.4\" patternunits=\"userSpaceOnUse\" id=\"gid4344942800\" height=\"50.4\"><path stroke=\"gray\" stroke-width=\"1\" d=\"M 50.4 0 L 0 0 0 50.4\" fill=\"none\"/><rect width=\"50.4\" height=\"50.4\" fill=\"url(#gitem4344942800)\"/></pattern></defs><rect width=\"5080.32\" fill=\"white\" height=\"5080.32\"/><rect width=\"5080.32\" fill=\"url(#gid4344942800)\" height=\"5080.32\"/><line y1=\"0\" x2=\"100.8\" stroke=\"black\" x1=\"100.8\" y2=\"201.6\"/><line y1=\"100.8\" x2=\"201.6\" stroke=\"black\" x1=\"0\" y2=\"100.8\"/><circle style=\"fill-opacity: 50%\" cx=\"100.8\" stroke=\"green\" cy=\"100.8\" r=\"50.4\" fill=\"green\"/><polygon style=\"fill:yellow; stroke:yellow; fill-opacity: 50%\" points=\"100.8,50.4 52.87,85.23 71.18,141.57 130.42,141.57 148.73,85.23\"/></svg><svg xmlns=\"http://www.w3.org/2000/svg\" height=\"201.6\" width=\"201.6\" version=\"1.1\" xmlns:xlink=\"http://www.w3.org/1999/xlink\" viewbox=\"0 0 202.6 202.6\"><defs><pattern width=\"7.2\" patternunits=\"userSpaceOnUse\" id=\"gitem4344942672\" height=\"7.2\"><path stroke=\"gray\" stroke-width=\"0.5\" d=\"M 7.2 0 L 0 0 0 7.2\" fill=\"none\"/></pattern><pattern width=\"50.4\" patternunits=\"userSpaceOnUse\" id=\"gid4344942672\" height=\"50.4\"><path stroke=\"gray\" stroke-width=\"1\" d=\"M 50.4 0 L 0 0 0 50.4\" fill=\"none\"/><rect width=\"50.4\" height=\"50.4\" fill=\"url(#gitem4344942672)\"/></pattern></defs><rect width=\"5080.32\" fill=\"white\" height=\"5080.32\"/><rect width=\"5080.32\" fill=\"url(#gid4344942672)\" height=\"5080.32\"/><line y1=\"0\" x2=\"100.8\" stroke=\"black\" x1=\"100.8\" y2=\"201.6\"/><line y1=\"100.8\" x2=\"201.6\" stroke=\"black\" x1=\"0\" y2=\"100.8\"/><circle style=\"fill-opacity: 50%\" cx=\"100.8\" stroke=\"green\" cy=\"100.8\" r=\"50.4\" fill=\"green\"/><polygon style=\"fill:purple; stroke:purple; fill-opacity: 50%\" points=\"100.8,50.4 57.15,75.6 57.15,126.0 100.8,151.2 144.45,126.0 144.45,75.6\"/></svg>"
       ],
       "metadata": {},
       "output_type": "pyout",
       "prompt_number": 6,
       "text": [
        "<tagtor.svg.svg at 0x10397e1d0>"
       ]
      }
     ],
     "prompt_number": 6
    },
    {
     "cell_type": "markdown",
     "metadata": {},
     "source": [
      "Next we create polygons outside the circle and printing of the properties and graphics under same iteration.\n",
      "\n",
      "### OUTER"
     ]
    },
    {
     "cell_type": "code",
     "collapsed": false,
     "input": [
      "polygons = [[\"equilateral triangle\", 3, 90],\n",
      "            [\"square\", 4, 0],\n",
      "            [\"pentagon\", 5, 90],\n",
      "            [\"hexagon\", 6, 90]\n",
      "           ]\n",
      "\n",
      "svghtml = ''\n",
      "\n",
      "for name, sides, degrees in polygons:\n",
      "    perii = polygon_perimeter_outer(radius, sides)\n",
      "    print \n",
      "    print name, \"side\", perii / sides\n",
      "    print name, \"perimeter\", perii\n",
      "    print name, \"area\", polygon_area_outer(radius, sides)\n",
      "    \n",
      "    s = get_svg()\n",
      "    s.set_polygon(radius=radius/cos(pi/sides), degrees=degrees, sides=sides,\n",
      "                  style=\"fill:brown; stroke:brown; fill-opacity: 50%\")\n",
      "    set_center_circle(s, radius)\n",
      "    svghtml += s\n",
      "\n",
      "svghtml"
     ],
     "language": "python",
     "metadata": {},
     "outputs": [
      {
       "output_type": "stream",
       "stream": "stdout",
       "text": [
        "\n",
        "equilateral triangle side 174.590721403\n",
        "equilateral triangle perimeter 523.772164209\n",
        "equilateral triangle area 13199.0585381\n",
        "\n",
        "square side 100.8\n",
        "square perimeter 403.2\n",
        "square area 10160.64\n",
        "\n",
        "pentagon side 73.2354868229\n",
        "pentagon perimeter 366.177434115\n",
        "pentagon area 9227.67133969\n",
        "\n",
        "hexagon side 58.1969071343\n",
        "hexagon perimeter 349.181442806\n",
        "hexagon area 8799.37235871\n"
       ]
      },
      {
       "html": [
        "<svg xmlns=\"http://www.w3.org/2000/svg\" height=\"201.6\" width=\"201.6\" version=\"1.1\" xmlns:xlink=\"http://www.w3.org/1999/xlink\" viewbox=\"0 0 202.6 202.6\"><defs><pattern width=\"7.2\" patternunits=\"userSpaceOnUse\" id=\"gitem4355262416\" height=\"7.2\"><path stroke=\"gray\" stroke-width=\"0.5\" d=\"M 7.2 0 L 0 0 0 7.2\" fill=\"none\"/></pattern><pattern width=\"50.4\" patternunits=\"userSpaceOnUse\" id=\"gid4355262416\" height=\"50.4\"><path stroke=\"gray\" stroke-width=\"1\" d=\"M 50.4 0 L 0 0 0 50.4\" fill=\"none\"/><rect width=\"50.4\" height=\"50.4\" fill=\"url(#gitem4355262416)\"/></pattern></defs><rect width=\"5080.32\" fill=\"white\" height=\"5080.32\"/><rect width=\"5080.32\" fill=\"url(#gid4355262416)\" height=\"5080.32\"/><line y1=\"0\" x2=\"100.8\" stroke=\"black\" x1=\"100.8\" y2=\"201.6\"/><line y1=\"100.8\" x2=\"201.6\" stroke=\"black\" x1=\"0\" y2=\"100.8\"/><polygon style=\"fill:brown; stroke:brown; fill-opacity: 50%\" points=\"100.8,0.0 13.5,151.2 188.1,151.2\"/><circle style=\"fill-opacity: 50%\" cx=\"100.8\" stroke=\"green\" cy=\"100.8\" r=\"50.4\" fill=\"green\"/></svg><svg xmlns=\"http://www.w3.org/2000/svg\" height=\"201.6\" width=\"201.6\" version=\"1.1\" xmlns:xlink=\"http://www.w3.org/1999/xlink\" viewbox=\"0 0 202.6 202.6\"><defs><pattern width=\"7.2\" patternunits=\"userSpaceOnUse\" id=\"gitem4355262608\" height=\"7.2\"><path stroke=\"gray\" stroke-width=\"0.5\" d=\"M 7.2 0 L 0 0 0 7.2\" fill=\"none\"/></pattern><pattern width=\"50.4\" patternunits=\"userSpaceOnUse\" id=\"gid4355262608\" height=\"50.4\"><path stroke=\"gray\" stroke-width=\"1\" d=\"M 50.4 0 L 0 0 0 50.4\" fill=\"none\"/><rect width=\"50.4\" height=\"50.4\" fill=\"url(#gitem4355262608)\"/></pattern></defs><rect width=\"5080.32\" fill=\"white\" height=\"5080.32\"/><rect width=\"5080.32\" fill=\"url(#gid4355262608)\" height=\"5080.32\"/><line y1=\"0\" x2=\"100.8\" stroke=\"black\" x1=\"100.8\" y2=\"201.6\"/><line y1=\"100.8\" x2=\"201.6\" stroke=\"black\" x1=\"0\" y2=\"100.8\"/><polygon style=\"fill:brown; stroke:brown; fill-opacity: 50%\" points=\"172.08,100.8 100.8,29.52 29.52,100.8 100.8,172.08\"/><circle style=\"fill-opacity: 50%\" cx=\"100.8\" stroke=\"green\" cy=\"100.8\" r=\"50.4\" fill=\"green\"/></svg><svg xmlns=\"http://www.w3.org/2000/svg\" height=\"201.6\" width=\"201.6\" version=\"1.1\" xmlns:xlink=\"http://www.w3.org/1999/xlink\" viewbox=\"0 0 202.6 202.6\"><defs><pattern width=\"7.2\" patternunits=\"userSpaceOnUse\" id=\"gitem4355262800\" height=\"7.2\"><path stroke=\"gray\" stroke-width=\"0.5\" d=\"M 7.2 0 L 0 0 0 7.2\" fill=\"none\"/></pattern><pattern width=\"50.4\" patternunits=\"userSpaceOnUse\" id=\"gid4355262800\" height=\"50.4\"><path stroke=\"gray\" stroke-width=\"1\" d=\"M 50.4 0 L 0 0 0 50.4\" fill=\"none\"/><rect width=\"50.4\" height=\"50.4\" fill=\"url(#gitem4355262800)\"/></pattern></defs><rect width=\"5080.32\" fill=\"white\" height=\"5080.32\"/><rect width=\"5080.32\" fill=\"url(#gid4355262800)\" height=\"5080.32\"/><line y1=\"0\" x2=\"100.8\" stroke=\"black\" x1=\"100.8\" y2=\"201.6\"/><line y1=\"100.8\" x2=\"201.6\" stroke=\"black\" x1=\"0\" y2=\"100.8\"/><polygon style=\"fill:brown; stroke:brown; fill-opacity: 50%\" points=\"100.8,38.5 41.55,81.55 64.18,151.2 137.42,151.2 160.05,81.55\"/><circle style=\"fill-opacity: 50%\" cx=\"100.8\" stroke=\"green\" cy=\"100.8\" r=\"50.4\" fill=\"green\"/></svg><svg xmlns=\"http://www.w3.org/2000/svg\" height=\"201.6\" width=\"201.6\" version=\"1.1\" xmlns:xlink=\"http://www.w3.org/1999/xlink\" viewbox=\"0 0 202.6 202.6\"><defs><pattern width=\"7.2\" patternunits=\"userSpaceOnUse\" id=\"gitem4355263120\" height=\"7.2\"><path stroke=\"gray\" stroke-width=\"0.5\" d=\"M 7.2 0 L 0 0 0 7.2\" fill=\"none\"/></pattern><pattern width=\"50.4\" patternunits=\"userSpaceOnUse\" id=\"gid4355263120\" height=\"50.4\"><path stroke=\"gray\" stroke-width=\"1\" d=\"M 50.4 0 L 0 0 0 50.4\" fill=\"none\"/><rect width=\"50.4\" height=\"50.4\" fill=\"url(#gitem4355263120)\"/></pattern></defs><rect width=\"5080.32\" fill=\"white\" height=\"5080.32\"/><rect width=\"5080.32\" fill=\"url(#gid4355263120)\" height=\"5080.32\"/><line y1=\"0\" x2=\"100.8\" stroke=\"black\" x1=\"100.8\" y2=\"201.6\"/><line y1=\"100.8\" x2=\"201.6\" stroke=\"black\" x1=\"0\" y2=\"100.8\"/><polygon style=\"fill:brown; stroke:brown; fill-opacity: 50%\" points=\"100.8,42.6 50.4,71.7 50.4,129.9 100.8,159.0 151.2,129.9 151.2,71.7\"/><circle style=\"fill-opacity: 50%\" cx=\"100.8\" stroke=\"green\" cy=\"100.8\" r=\"50.4\" fill=\"green\"/></svg>"
       ],
       "metadata": {},
       "output_type": "pyout",
       "prompt_number": 7,
       "text": [
        "<tagtor.svg.svg at 0x1039807d0>"
       ]
      }
     ],
     "prompt_number": 7
    },
    {
     "cell_type": "markdown",
     "metadata": {},
     "source": [
      "## Star of David from Seed of Life geometry"
     ]
    },
    {
     "cell_type": "code",
     "collapsed": false,
     "input": [
      "# drawing canvas\n",
      "def get_seed_of_life_svg():\n",
      "    s = get_svg()\n",
      "    s.set_size(s.size[0]*2, s.size[1]*2)\n",
      "    s.axes = False\n",
      "    s.grid = True\n",
      "    return s\n",
      "\n",
      "color = \"green\"\n",
      "\n",
      "# basic seed of life geometry\n",
      "def get_seed_of_life():\n",
      "    s = get_seed_of_life_svg()\n",
      "    s.set_circle(r=radius*sqrt3, fill=color, stroke=color, style=\"fill-opacity: 0%\")\n",
      "    s.set_circle(r=radius*2, fill=color, stroke=color, style=\"fill-opacity: 25%\")\n",
      "    for x, y in s.vertex(sides=6, radius=radius):\n",
      "        s.set_circle(cx=x, cy=y, r=radius, fill=color, stroke=color, style=\"fill-opacity: 50%\")\n",
      "    return s\n",
      "\n",
      "s1 = get_seed_of_life()\n",
      "svghtml = str(s1)\n",
      "\n",
      "# squares and 7/6 dimentions from seed of life geometry\n",
      "#s1 = get_seed_of_life()\n",
      "s1.set_square(radius=radius*2*sqrt2, degrees=45, \n",
      "              style=\"fill:\"+color+\"; stroke:white; fill-opacity: 15%\")\n",
      "s1.set_square(radius=radius*sqrt3*sqrt2, degrees=45, \n",
      "              style=\"fill:\"+color+\"; stroke:white; fill-opacity: 15%\")\n",
      "\n",
      "s1.set_line(x1=radius*2, y1=radius*2, x2=-radius*2, y2=radius*2, style=\"stroke:black;\")\n",
      "s1.set_text(\"7 (7.0000)\", y=radius*2.5)\n",
      "s1.set_circle(r=2, cx=radius*2, cy=radius*2, fill=\"black\")\n",
      "s1.set_circle(r=2, cx=-radius*2, cy=radius*2, fill=\"black\")\n",
      "\n",
      "s1.set_line(x1=radius*sqrt3, y1=radius*sqrt3, x2=-radius*sqrt3, y2=radius*sqrt3, style=\"stroke:black;\")\n",
      "s1.set_text(\"6 (3.5/\u221a3 ~= 6.0622)\", x=-radius, y=radius/2*sqrt3)\n",
      "s1.set_circle(r=2, cx=radius*sqrt3, cy=radius*sqrt3, fill=\"black\")\n",
      "s1.set_circle(r=2, cx=-radius*sqrt3, cy=radius*sqrt3, fill=\"black\")\n",
      "\n",
      "svghtml += str(s1)\n",
      "\n",
      "# seed of life geometry with intersection points\n",
      "def set_vertex_points(s):\n",
      "    for x, y in s1.vertex(sides=6, radius=radius*sqrt3, degrees=90):\n",
      "        s.set_circle(cx=x, cy=y, r=2, fill=\"black\")\n",
      "    \n",
      "    for x, y in s1.vertex(sides=6, radius=radius*2, degrees=90):\n",
      "        s.set_circle(cx=x, cy=y, r=2, fill=\"black\")\n",
      "\n",
      "s1 = get_seed_of_life()\n",
      "set_vertex_points(s1)\n",
      "svghtml += str(s1)\n",
      "\n",
      "# star of david from seed of life geometry\n",
      "s1 = get_seed_of_life_svg()\n",
      "\n",
      "s1.set_triangle(radius=radius*2, degrees=90, \n",
      "                style=\"fill:\"+color+\"; stroke:white; fill-opacity: 75%\")\n",
      "s1.set_triangle(radius=radius*2, degrees=270, \n",
      "                style=\"fill:\"+color+\"; stroke:white; fill-opacity: 75%\")\n",
      "\n",
      "s1.set_triangle(radius=radius*sqrt3, degrees=90, \n",
      "                style=\"fill:\"+color+\"; stroke:white; fill-opacity: 75%\")\n",
      "s1.set_triangle(radius=radius*sqrt3, degrees=270, \n",
      "                style=\"fill:\"+color+\"; stroke:white; fill-opacity: 75%\")\n",
      "\n",
      "s1.set_hexagon(radius=radius/2*sqrt3/cos(pi/6), degrees=0, \n",
      "               style=\"fill:\"+color+\"; stroke:white;\")\n",
      "\n",
      "set_vertex_points(s1)\n",
      "\n",
      "svghtml += str(s1)\n",
      "\n",
      "HTML(svghtml)"
     ],
     "language": "python",
     "metadata": {},
     "outputs": [
      {
       "html": [
        "<svg xmlns=\"http://www.w3.org/2000/svg\" height=\"403.2\" width=\"403.2\" version=\"1.1\" xmlns:xlink=\"http://www.w3.org/1999/xlink\" viewbox=\"0 0 404.2 404.2\"><defs><pattern width=\"14.4\" patternunits=\"userSpaceOnUse\" id=\"gitem4355374032\" height=\"14.4\"><path stroke=\"gray\" stroke-width=\"0.5\" d=\"M 14.4 0 L 0 0 0 14.4\" fill=\"none\"/></pattern><pattern width=\"100.8\" patternunits=\"userSpaceOnUse\" id=\"gid4355374032\" height=\"100.8\"><path stroke=\"gray\" stroke-width=\"1\" d=\"M 100.8 0 L 0 0 0 100.8\" fill=\"none\"/><rect width=\"100.8\" height=\"100.8\" fill=\"url(#gitem4355374032)\"/></pattern></defs><rect width=\"20321.28\" fill=\"white\" height=\"20321.28\"/><rect width=\"20321.28\" fill=\"url(#gid4355374032)\" height=\"20321.28\"/><circle style=\"fill-opacity: 0%\" cx=\"201.6\" stroke=\"green\" cy=\"201.6\" r=\"87.2953607015\" fill=\"green\"/><circle style=\"fill-opacity: 25%\" cx=\"201.6\" stroke=\"green\" cy=\"201.6\" r=\"100.8\" fill=\"green\"/><circle style=\"fill-opacity: 50%\" cx=\"252.0\" stroke=\"green\" cy=\"201.6\" r=\"50.4\" fill=\"green\"/><circle style=\"fill-opacity: 50%\" cx=\"226.8\" stroke=\"green\" cy=\"245.25\" r=\"50.4\" fill=\"green\"/><circle style=\"fill-opacity: 50%\" cx=\"176.4\" stroke=\"green\" cy=\"245.25\" r=\"50.4\" fill=\"green\"/><circle style=\"fill-opacity: 50%\" cx=\"151.2\" stroke=\"green\" cy=\"201.6\" r=\"50.4\" fill=\"green\"/><circle style=\"fill-opacity: 50%\" cx=\"176.4\" stroke=\"green\" cy=\"157.95\" r=\"50.4\" fill=\"green\"/><circle style=\"fill-opacity: 50%\" cx=\"226.8\" stroke=\"green\" cy=\"157.95\" r=\"50.4\" fill=\"green\"/></svg><svg xmlns=\"http://www.w3.org/2000/svg\" height=\"403.2\" width=\"403.2\" version=\"1.1\" xmlns:xlink=\"http://www.w3.org/1999/xlink\" viewbox=\"0 0 404.2 404.2\"><defs><pattern width=\"14.4\" patternunits=\"userSpaceOnUse\" id=\"gitem4355374032\" height=\"14.4\"><path stroke=\"gray\" stroke-width=\"0.5\" d=\"M 14.4 0 L 0 0 0 14.4\" fill=\"none\"/></pattern><pattern width=\"100.8\" patternunits=\"userSpaceOnUse\" id=\"gid4355374032\" height=\"100.8\"><path stroke=\"gray\" stroke-width=\"1\" d=\"M 100.8 0 L 0 0 0 100.8\" fill=\"none\"/><rect width=\"100.8\" height=\"100.8\" fill=\"url(#gitem4355374032)\"/></pattern></defs><rect width=\"20321.28\" fill=\"white\" height=\"20321.28\"/><rect width=\"20321.28\" fill=\"url(#gid4355374032)\" height=\"20321.28\"/><circle style=\"fill-opacity: 0%\" cx=\"201.6\" stroke=\"green\" cy=\"201.6\" r=\"87.2953607015\" fill=\"green\"/><circle style=\"fill-opacity: 25%\" cx=\"201.6\" stroke=\"green\" cy=\"201.6\" r=\"100.8\" fill=\"green\"/><circle style=\"fill-opacity: 50%\" cx=\"252.0\" stroke=\"green\" cy=\"201.6\" r=\"50.4\" fill=\"green\"/><circle style=\"fill-opacity: 50%\" cx=\"226.8\" stroke=\"green\" cy=\"245.25\" r=\"50.4\" fill=\"green\"/><circle style=\"fill-opacity: 50%\" cx=\"176.4\" stroke=\"green\" cy=\"245.25\" r=\"50.4\" fill=\"green\"/><circle style=\"fill-opacity: 50%\" cx=\"151.2\" stroke=\"green\" cy=\"201.6\" r=\"50.4\" fill=\"green\"/><circle style=\"fill-opacity: 50%\" cx=\"176.4\" stroke=\"green\" cy=\"157.95\" r=\"50.4\" fill=\"green\"/><circle style=\"fill-opacity: 50%\" cx=\"226.8\" stroke=\"green\" cy=\"157.95\" r=\"50.4\" fill=\"green\"/><defs><pattern width=\"14.4\" patternunits=\"userSpaceOnUse\" id=\"gitem4355374032\" height=\"14.4\"><path stroke=\"gray\" stroke-width=\"0.5\" d=\"M 14.4 0 L 0 0 0 14.4\" fill=\"none\"/></pattern><pattern width=\"100.8\" patternunits=\"userSpaceOnUse\" id=\"gid4355374032\" height=\"100.8\"><path stroke=\"gray\" stroke-width=\"1\" d=\"M 100.8 0 L 0 0 0 100.8\" fill=\"none\"/><rect width=\"100.8\" height=\"100.8\" fill=\"url(#gitem4355374032)\"/></pattern></defs><rect width=\"20321.28\" fill=\"white\" height=\"20321.28\"/><rect width=\"20321.28\" fill=\"url(#gid4355374032)\" height=\"20321.28\"/><circle style=\"fill-opacity: 0%\" cx=\"201.6\" stroke=\"green\" cy=\"201.6\" r=\"87.2953607015\" fill=\"green\"/><circle style=\"fill-opacity: 25%\" cx=\"201.6\" stroke=\"green\" cy=\"201.6\" r=\"100.8\" fill=\"green\"/><circle style=\"fill-opacity: 50%\" cx=\"252.0\" stroke=\"green\" cy=\"201.6\" r=\"50.4\" fill=\"green\"/><circle style=\"fill-opacity: 50%\" cx=\"226.8\" stroke=\"green\" cy=\"245.25\" r=\"50.4\" fill=\"green\"/><circle style=\"fill-opacity: 50%\" cx=\"176.4\" stroke=\"green\" cy=\"245.25\" r=\"50.4\" fill=\"green\"/><circle style=\"fill-opacity: 50%\" cx=\"151.2\" stroke=\"green\" cy=\"201.6\" r=\"50.4\" fill=\"green\"/><circle style=\"fill-opacity: 50%\" cx=\"176.4\" stroke=\"green\" cy=\"157.95\" r=\"50.4\" fill=\"green\"/><circle style=\"fill-opacity: 50%\" cx=\"226.8\" stroke=\"green\" cy=\"157.95\" r=\"50.4\" fill=\"green\"/><polygon style=\"fill:green; stroke:white; fill-opacity: 15%\" points=\"302.4,100.8 100.8,100.8 100.8,302.4 302.4,302.4\"/><polygon style=\"fill:green; stroke:white; fill-opacity: 15%\" points=\"288.9,114.3 114.3,114.3 114.3,288.9 288.9,288.9\"/><line y1=\"100.8\" x2=\"100.8\" style=\"stroke:black;\" x1=\"302.4\" y2=\"100.8\"/><text y=\"75.6\" x=\"201.6\">7 (7.0000)</text><circle cy=\"100.8\" cx=\"302.4\" r=\"2\" fill=\"black\"/><circle cy=\"100.8\" cx=\"100.8\" r=\"2\" fill=\"black\"/><line y1=\"114.304639299\" x2=\"114.304639299\" style=\"stroke:black;\" x1=\"288.895360701\" y2=\"114.304639299\"/><text y=\"157.952319649\" x=\"151.2\">6 (3.5/\u221a3 ~= 6.0622)</text><circle cy=\"114.304639299\" cx=\"288.895360701\" r=\"2\" fill=\"black\"/><circle cy=\"114.304639299\" cx=\"114.304639299\" r=\"2\" fill=\"black\"/></svg><svg xmlns=\"http://www.w3.org/2000/svg\" height=\"403.2\" width=\"403.2\" version=\"1.1\" xmlns:xlink=\"http://www.w3.org/1999/xlink\" viewbox=\"0 0 404.2 404.2\"><defs><pattern width=\"14.4\" patternunits=\"userSpaceOnUse\" id=\"gitem4334098064\" height=\"14.4\"><path stroke=\"gray\" stroke-width=\"0.5\" d=\"M 14.4 0 L 0 0 0 14.4\" fill=\"none\"/></pattern><pattern width=\"100.8\" patternunits=\"userSpaceOnUse\" id=\"gid4334098064\" height=\"100.8\"><path stroke=\"gray\" stroke-width=\"1\" d=\"M 100.8 0 L 0 0 0 100.8\" fill=\"none\"/><rect width=\"100.8\" height=\"100.8\" fill=\"url(#gitem4334098064)\"/></pattern></defs><rect width=\"20321.28\" fill=\"white\" height=\"20321.28\"/><rect width=\"20321.28\" fill=\"url(#gid4334098064)\" height=\"20321.28\"/><circle style=\"fill-opacity: 0%\" cx=\"201.6\" stroke=\"green\" cy=\"201.6\" r=\"87.2953607015\" fill=\"green\"/><circle style=\"fill-opacity: 25%\" cx=\"201.6\" stroke=\"green\" cy=\"201.6\" r=\"100.8\" fill=\"green\"/><circle style=\"fill-opacity: 50%\" cx=\"252.0\" stroke=\"green\" cy=\"201.6\" r=\"50.4\" fill=\"green\"/><circle style=\"fill-opacity: 50%\" cx=\"226.8\" stroke=\"green\" cy=\"245.25\" r=\"50.4\" fill=\"green\"/><circle style=\"fill-opacity: 50%\" cx=\"176.4\" stroke=\"green\" cy=\"245.25\" r=\"50.4\" fill=\"green\"/><circle style=\"fill-opacity: 50%\" cx=\"151.2\" stroke=\"green\" cy=\"201.6\" r=\"50.4\" fill=\"green\"/><circle style=\"fill-opacity: 50%\" cx=\"176.4\" stroke=\"green\" cy=\"157.95\" r=\"50.4\" fill=\"green\"/><circle style=\"fill-opacity: 50%\" cx=\"226.8\" stroke=\"green\" cy=\"157.95\" r=\"50.4\" fill=\"green\"/><circle cy=\"288.9\" cx=\"201.6\" r=\"2\" fill=\"black\"/><circle cy=\"245.25\" cx=\"126.0\" r=\"2\" fill=\"black\"/><circle cy=\"157.95\" cx=\"126.0\" r=\"2\" fill=\"black\"/><circle cy=\"114.3\" cx=\"201.6\" r=\"2\" fill=\"black\"/><circle cy=\"157.95\" cx=\"277.2\" r=\"2\" fill=\"black\"/><circle cy=\"245.25\" cx=\"277.2\" r=\"2\" fill=\"black\"/><circle cy=\"302.4\" cx=\"201.6\" r=\"2\" fill=\"black\"/><circle cy=\"252.0\" cx=\"114.3\" r=\"2\" fill=\"black\"/><circle cy=\"151.2\" cx=\"114.3\" r=\"2\" fill=\"black\"/><circle cy=\"100.8\" cx=\"201.6\" r=\"2\" fill=\"black\"/><circle cy=\"151.2\" cx=\"288.9\" r=\"2\" fill=\"black\"/><circle cy=\"252.0\" cx=\"288.9\" r=\"2\" fill=\"black\"/></svg><svg xmlns=\"http://www.w3.org/2000/svg\" height=\"403.2\" width=\"403.2\" version=\"1.1\" xmlns:xlink=\"http://www.w3.org/1999/xlink\" viewbox=\"0 0 404.2 404.2\"><defs><pattern width=\"14.4\" patternunits=\"userSpaceOnUse\" id=\"gitem4355374096\" height=\"14.4\"><path stroke=\"gray\" stroke-width=\"0.5\" d=\"M 14.4 0 L 0 0 0 14.4\" fill=\"none\"/></pattern><pattern width=\"100.8\" patternunits=\"userSpaceOnUse\" id=\"gid4355374096\" height=\"100.8\"><path stroke=\"gray\" stroke-width=\"1\" d=\"M 100.8 0 L 0 0 0 100.8\" fill=\"none\"/><rect width=\"100.8\" height=\"100.8\" fill=\"url(#gitem4355374096)\"/></pattern></defs><rect width=\"20321.28\" fill=\"white\" height=\"20321.28\"/><rect width=\"20321.28\" fill=\"url(#gid4355374096)\" height=\"20321.28\"/><polygon style=\"fill:green; stroke:white; fill-opacity: 75%\" points=\"201.6,100.8 114.3,252.0 288.9,252.0\"/><polygon style=\"fill:green; stroke:white; fill-opacity: 75%\" points=\"201.6,302.4 288.9,151.2 114.3,151.2\"/><polygon style=\"fill:green; stroke:white; fill-opacity: 75%\" points=\"201.6,114.3 126.0,245.25 277.2,245.25\"/><polygon style=\"fill:green; stroke:white; fill-opacity: 75%\" points=\"201.6,288.9 277.2,157.95 126.0,157.95\"/><polygon style=\"fill:green; stroke:white;\" points=\"252.0,201.6 226.8,157.95 176.4,157.95 151.2,201.6 176.4,245.25 226.8,245.25\"/><circle cy=\"288.9\" cx=\"201.6\" r=\"2\" fill=\"black\"/><circle cy=\"245.25\" cx=\"126.0\" r=\"2\" fill=\"black\"/><circle cy=\"157.95\" cx=\"126.0\" r=\"2\" fill=\"black\"/><circle cy=\"114.3\" cx=\"201.6\" r=\"2\" fill=\"black\"/><circle cy=\"157.95\" cx=\"277.2\" r=\"2\" fill=\"black\"/><circle cy=\"245.25\" cx=\"277.2\" r=\"2\" fill=\"black\"/><circle cy=\"302.4\" cx=\"201.6\" r=\"2\" fill=\"black\"/><circle cy=\"252.0\" cx=\"114.3\" r=\"2\" fill=\"black\"/><circle cy=\"151.2\" cx=\"114.3\" r=\"2\" fill=\"black\"/><circle cy=\"100.8\" cx=\"201.6\" r=\"2\" fill=\"black\"/><circle cy=\"151.2\" cx=\"288.9\" r=\"2\" fill=\"black\"/><circle cy=\"252.0\" cx=\"288.9\" r=\"2\" fill=\"black\"/></svg>"
       ],
       "metadata": {},
       "output_type": "pyout",
       "prompt_number": 8,
       "text": [
        "<IPython.core.display.HTML at 0x10399fb50>"
       ]
      }
     ],
     "prompt_number": 8
    },
    {
     "cell_type": "code",
     "collapsed": false,
     "input": [
      "s1 = get_seed_of_life_svg()\n",
      "\n",
      "s1.set_defs(h.linearGradient(\n",
      "                h.stop(**{'offset': \"0%\", 'stop-color': \"#00cc00\", 'stop-opacity': 1}),\n",
      "                h.stop(**{'offset': \"100%\", 'stop-color': \"#006600\", 'stop-opacity': 1}),\n",
      "                **{'spreadMethod': \"pad\", 'id': \"gradient\", 'gradientTransform': \"rotate(25)\",\n",
      "                   'x1': \"0%\", 'y1': \"0%\", 'x2': \"0%\", 'y2': \"100%\"}))\n",
      "\n",
      "s1.set_triangle(radius=radius*2, degrees=90, \n",
      "                style=\"fill:brown; stroke:white; fill-opacity: 75%\")\n",
      "s1.set_triangle(radius=radius*2, degrees=270, \n",
      "                style=\"fill:brown; stroke:white; fill-opacity: 75%\")\n",
      "\n",
      "s1.set_triangle(radius=radius*sqrt3, degrees=90, \n",
      "                style=\"fill:brown; stroke:white; fill-opacity: 75%\")\n",
      "s1.set_triangle(radius=radius*sqrt3, degrees=270, \n",
      "                style=\"fill:brown; stroke:white; fill-opacity: 75%\")\n",
      "\n",
      "\n",
      "s1.set_hexagon(radius=radius/2*sqrt3/cos(pi/6), degrees=0, \n",
      "               style=\"fill:url(#gradientt); stroke:white; fill-opacity: 40%\")\n",
      "\n",
      "s1"
     ],
     "language": "python",
     "metadata": {},
     "outputs": [
      {
       "html": [
        "<svg xmlns=\"http://www.w3.org/2000/svg\" height=\"403.2\" width=\"403.2\" version=\"1.1\" xmlns:xlink=\"http://www.w3.org/1999/xlink\" viewbox=\"0 0 404.2 404.2\"><defs><pattern width=\"14.4\" patternunits=\"userSpaceOnUse\" id=\"gitem4355372496\" height=\"14.4\"><path stroke=\"gray\" stroke-width=\"0.5\" d=\"M 14.4 0 L 0 0 0 14.4\" fill=\"none\"/></pattern><pattern width=\"100.8\" patternunits=\"userSpaceOnUse\" id=\"gid4355372496\" height=\"100.8\"><path stroke=\"gray\" stroke-width=\"1\" d=\"M 100.8 0 L 0 0 0 100.8\" fill=\"none\"/><rect width=\"100.8\" height=\"100.8\" fill=\"url(#gitem4355372496)\"/></pattern></defs><rect width=\"20321.28\" fill=\"white\" height=\"20321.28\"/><rect width=\"20321.28\" fill=\"url(#gid4355372496)\" height=\"20321.28\"/><defs><lineargradient y2=\"100%\" spreadmethod=\"pad\" x2=\"0%\" gradienttransform=\"rotate(25)\" y1=\"0%\" x1=\"0%\" id=\"gradient\"><stop stop-color=\"#00cc00\" stop-opacity=\"1\" offset=\"0%\"/><stop stop-color=\"#006600\" stop-opacity=\"1\" offset=\"100%\"/></lineargradient></defs><polygon style=\"fill:brown; stroke:white; fill-opacity: 75%\" points=\"201.6,100.8 114.3,252.0 288.9,252.0\"/><polygon style=\"fill:brown; stroke:white; fill-opacity: 75%\" points=\"201.6,302.4 288.9,151.2 114.3,151.2\"/><polygon style=\"fill:brown; stroke:white; fill-opacity: 75%\" points=\"201.6,114.3 126.0,245.25 277.2,245.25\"/><polygon style=\"fill:brown; stroke:white; fill-opacity: 75%\" points=\"201.6,288.9 277.2,157.95 126.0,157.95\"/><polygon style=\"fill:url(#gradientt); stroke:white; fill-opacity: 40%\" points=\"252.0,201.6 226.8,157.95 176.4,157.95 151.2,201.6 176.4,245.25 226.8,245.25\"/></svg>"
       ],
       "metadata": {},
       "output_type": "pyout",
       "prompt_number": 9,
       "text": [
        "<tagtor.svg.svg at 0x10399b5d0>"
       ]
      }
     ],
     "prompt_number": 9
    },
    {
     "cell_type": "markdown",
     "metadata": {},
     "source": [
      "## The [MIT](http://choosealicense.com/licenses/mit/) License\n",
      "\n",
      "Copyright (c) 2014 Marko Manninen"
     ]
    }
   ],
   "metadata": {}
  }
 ]
}