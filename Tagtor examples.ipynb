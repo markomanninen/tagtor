{
 "metadata": {
  "name": ""
 },
 "nbformat": 3,
 "nbformat_minor": 0,
 "worksheets": [
  {
   "cells": [
    {
     "cell_type": "markdown",
     "metadata": {},
     "source": [
      "# Tagtor examples\n",
      "\n",
      "Import tagtor module:"
     ]
    },
    {
     "cell_type": "code",
     "collapsed": false,
     "input": [
      "from tagtor import helper as h, table, svg"
     ],
     "language": "python",
     "metadata": {},
     "outputs": [],
     "prompt_number": 1
    },
    {
     "cell_type": "markdown",
     "metadata": {},
     "source": [
      "## Basic HTML"
     ]
    },
    {
     "cell_type": "code",
     "collapsed": false,
     "input": [
      "t = h.div('text ', h.a(\"link\"), h.b(\" bold\"), h.i(\" italic\"))\n",
      "print t\n",
      "t"
     ],
     "language": "python",
     "metadata": {},
     "outputs": [
      {
       "output_type": "stream",
       "stream": "stdout",
       "text": [
        "<div>text <a>link</a><b> bold</b><i> italic</i></div>\n"
       ]
      },
      {
       "html": [
        "<div>text <a>link</a><b> bold</b><i> italic</i></div>"
       ],
       "metadata": {},
       "output_type": "pyout",
       "prompt_number": 2,
       "text": [
        "<tagtor.main.div at 0x102fa7c50>"
       ]
      }
     ],
     "prompt_number": 2
    },
    {
     "cell_type": "markdown",
     "metadata": {},
     "source": [
      "## HTML table"
     ]
    },
    {
     "cell_type": "code",
     "collapsed": false,
     "input": [
      "csv = \"\"\"Title,Name,Phone\n",
      "Mr.,John,07868785831\n",
      "Miss,Linda,0141-2244-5566\n",
      "Master,Jack,0142-1212-1234\n",
      "Mr.,Bush,911-911-911\"\"\"\n",
      "\n",
      "tbl = table()\n",
      "tbl.addCaption(\"Contacts\")\n",
      "for idx, row in enumerate(csv.split(\"\\n\")):\n",
      "    if idx:\n",
      "        tbl.addBodyRow(h.tr(*[h.td(x) for x in row.split(\",\")]))\n",
      "    else:\n",
      "        tbl.addHeadRow(h.tr(*[h.th(x) for x in row.split(\",\")]))\n",
      "tbl"
     ],
     "language": "python",
     "metadata": {},
     "outputs": [
      {
       "html": [
        "<table><caption>Contacts</caption><thead><tr><th>Title</th><th>Name</th><th>Phone</th></tr></thead><tbody><tr><td>Mr.</td><td>John</td><td>07868785831</td></tr><tr><td>Miss</td><td>Linda</td><td>0141-2244-5566</td></tr><tr><td>Master</td><td>Jack</td><td>0142-1212-1234</td></tr><tr><td>Mr.</td><td>Bush</td><td>911-911-911</td></tr></tbody></table>"
       ],
       "metadata": {},
       "output_type": "pyout",
       "prompt_number": 3,
       "text": [
        "<tagtor.table.table at 0x102fada50>"
       ]
      }
     ],
     "prompt_number": 3
    },
    {
     "cell_type": "markdown",
     "metadata": {},
     "source": [
      "## SVG graphics"
     ]
    },
    {
     "cell_type": "code",
     "collapsed": false,
     "input": [
      "s = svg().set_axes().set_grid().set_origin()\n",
      "s.set_circle(r=100, fill=\"green\", style=\"fill-opacity: 50%\")\n",
      "s"
     ],
     "language": "python",
     "metadata": {},
     "outputs": [
      {
       "html": [
        "<svg width=\"400\" viewbox=\"0 0 401 401\" height=\"400\"><defs><pattern width=\"12.5\" patternunits=\"userSpaceOnUse\" id=\"gitem4334088528\" height=\"12.5\"><path stroke=\"gray\" stroke-width=\"0.5\" d=\"M 12.5 0 L 0 0 0 12.5\" fill=\"none\"/></pattern><pattern width=\"50\" patternunits=\"userSpaceOnUse\" id=\"gid4334088528\" height=\"50\"><path stroke=\"gray\" stroke-width=\"1\" d=\"M 50 0 L 0 0 0 50\" fill=\"none\"/><rect width=\"50\" height=\"50\" fill=\"url(#gitem4334088528)\"/></pattern></defs><rect width=\"10000\" fill=\"white\" height=\"10000\"/><rect width=\"10000\" fill=\"url(#gid4334088528)\" height=\"10000\"/><line y1=\"0\" x2=\"200\" stroke=\"black\" x1=\"200\" y2=\"400\"/><line y1=\"200\" x2=\"400\" stroke=\"black\" x1=\"0\" y2=\"200\"/><circle style=\"fill-opacity: 50%\" cx=\"200\" stroke=\"black\" cy=\"200\" r=\"2\" fill=\"black\"/><text y=\"195\" x=\"205\" style=\"fill-opacity: 50%\">(0,0)</text><circle style=\"fill-opacity: 50%\" cx=\"200\" r=\"100\" cy=\"200\" fill=\"green\"/></svg>"
       ],
       "metadata": {},
       "output_type": "pyout",
       "prompt_number": 4,
       "text": [
        "<tagtor.svg.svg at 0x10254f150>"
       ]
      }
     ],
     "prompt_number": 4
    },
    {
     "cell_type": "markdown",
     "metadata": {},
     "source": [
      "## The [MIT](http://choosealicense.com/licenses/mit/) License\n",
      "\n",
      "Copyright (c) 2014 Marko Manninen"
     ]
    }
   ],
   "metadata": {}
  }
 ]
}