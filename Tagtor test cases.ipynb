{
 "metadata": {
  "name": ""
 },
 "nbformat": 3,
 "nbformat_minor": 0,
 "worksheets": [
  {
   "cells": [
    {
     "cell_type": "markdown",
     "metadata": {},
     "source": [
      "# Tests for tagtor\n",
      "\n",
      "Tagtor XML/HTML tag generator (or factory if you prefer it that way): https://github.com/markomanninen/tagtor\n",
      "\n",
      "iPython notebook extension for running tests is forged from: https://gist.github.com/jiffyclub/4013594\n",
      "Modifications for runtests concerns only output so that instead of plain text output I'm using more pleasant html table format."
     ]
    },
    {
     "cell_type": "heading",
     "level": 2,
     "metadata": {},
     "source": [
      "Load runtests script from local or remote server"
     ]
    },
    {
     "cell_type": "code",
     "collapsed": false,
     "input": [
      "# Uncomment to run test script from local directory\n",
      "%install_ext runtests.py\n",
      "# Load extension from remote host\n",
      "#%install_ext https://raw.githubusercontent.com/markomanninen/tagtor/master/runtests.py\n",
      "%load_ext runtests"
     ],
     "language": "python",
     "metadata": {},
     "outputs": [
      {
       "output_type": "stream",
       "stream": "stdout",
       "text": [
        "Installed runtests.py. To use it, type:\n",
        "  %load_ext runtests\n",
        "The runtests module is not an IPython extension.\n"
       ]
      }
     ],
     "prompt_number": 1
    },
    {
     "cell_type": "heading",
     "level": 2,
     "metadata": {},
     "source": [
      "Import libraries for tests"
     ]
    },
    {
     "cell_type": "code",
     "collapsed": false,
     "input": [
      "from tagtor import helper as h, table"
     ],
     "language": "python",
     "metadata": {},
     "outputs": [],
     "prompt_number": 2
    },
    {
     "cell_type": "heading",
     "level": 2,
     "metadata": {},
     "source": [
      "Define tests"
     ]
    },
    {
     "cell_type": "code",
     "collapsed": false,
     "input": [
      "tag = None\n",
      "def set_up():\n",
      "    global tag\n",
      "    tag = h.tag\n",
      "\n",
      "def test_tag_is_tag():\n",
      "    set_up()\n",
      "    assert tag == tag\n",
      "\n",
      "def test_tag_is_called_tag():\n",
      "    set_up()\n",
      "    assert tag != tag()\n",
      "\n",
      "def test_string_uncalled_tag():\n",
      "    set_up()\n",
      "    assert str(tag) == \"<class 'tagtor.main.tag'>\"\n",
      "\n",
      "def test_get_tag_name():\n",
      "    set_up()\n",
      "    assert tag().getName() == 'tag'\n",
      "\n",
      "def test_single_tag_without_content_and_attributes():\n",
      "    set_up()\n",
      "    assert str(tag()) == '<tag/>'\n",
      "\n",
      "def test_single_tag_with_empty_content():\n",
      "    set_up()\n",
      "    assert str(tag('')) == '<tag></tag>'\n",
      "\n",
      "def test_tag_with_text_content():\n",
      "    set_up()\n",
      "    assert str(tag('text')) == '<tag>text</tag>'\n",
      "\n",
      "def test_tag_with_tag_content():\n",
      "    set_up()\n",
      "    assert str(tag(tag())) == '<tag><tag/></tag>'\n",
      "\n",
      "def test_tag_with_two_args_tags():\n",
      "    set_up()\n",
      "    assert str(tag(tag, tag)) == '<tag><tag/><tag/></tag>'\n",
      "\n",
      "def test_tag_with_list_args():\n",
      "    set_up()\n",
      "    assert str(tag(*[tag, tag])) == '<tag><tag/><tag/></tag>'\n",
      "\n",
      "def test_tag_with_uncalled_tag_content():\n",
      "    set_up()\n",
      "    assert str(tag(tag)) == '<tag><tag/></tag>'\n",
      "\n",
      "def test_tag_with_lshift_tag_content():\n",
      "    set_up()\n",
      "    assert str(tag(id=1) << tag(id=2) << tag(id=3)) == '<tag id=\"1\"><tag id=\"2\"/><tag id=\"3\"/></tag>'\n",
      "\n",
      "def test_tag_with_rshift_tag_content():\n",
      "    set_up()\n",
      "    assert str(tag(id=1) >> tag(id=2) >> tag(id=3)) == '<tag id=\"1\"><tag id=\"3\"/><tag id=\"2\"/></tag>'\n",
      "\n",
      "def test_tag_content_method():\n",
      "    set_up()\n",
      "    assert str(tag(id=1).content(tag(id=2)).content(tag(id=3))) == '<tag id=\"1\"><tag id=\"2\"/><tag id=\"3\"/></tag>'\n",
      "\n",
      "def test_tag_rcontent_method():\n",
      "    set_up()\n",
      "    assert str(tag(id=1).rcontent(tag(id=2)).rcontent(tag(id=3))) == '<tag id=\"1\"><tag id=\"3\"/><tag id=\"2\"/></tag>'\n",
      "\n",
      "def test_tag_with_str_num_tag_content():\n",
      "    set_up()\n",
      "    assert str(tag('a', 1, tag, 2, 'b')) == '<tag>a1<tag/>2b</tag>'\n",
      "\n",
      "def test_tag_argument_attribute_string():\n",
      "    set_up()\n",
      "    assert str(tag(key='value')) == '<tag key=\"value\"/>'\n",
      "\n",
      "def test_tag_argument_attribute_int():\n",
      "    set_up()\n",
      "    assert str(tag(value=1)) == '<tag value=\"1\"/>'\n",
      "\n",
      "def test_tag_dictionary_attribute_string():\n",
      "    set_up()\n",
      "    assert str(tag(**{'key': 'value'})) == '<tag key=\"value\"/>'\n",
      "\n",
      "def test_tag_dictionary_attribute_int():\n",
      "    set_up()\n",
      "    assert str(tag(**{'value': 1})) == '<tag value=\"1\"/>'\n",
      "\n",
      "def test_tag_set_attribute():\n",
      "    set_up()\n",
      "    assert str(tag().setAttribute('key', 'value')) == '<tag key=\"value\"/>'\n",
      "\n",
      "def test_tag_get_attribute():\n",
      "    set_up()\n",
      "    assert tag().setAttribute('key', 'value').getAttribute('key') == 'value'\n",
      "\n",
      "def test_tag_reserved_word_attribute():\n",
      "    set_up()\n",
      "    assert str(tag(CLASS='tag')) == '<tag class=\"tag\"/>'\n",
      "\n",
      "def test_tag_reserve_word_name():\n",
      "    set_up()\n",
      "    assert str(h.DEL()) == '<del/>'\n",
      "\n",
      "def test_tag_reserve_word_set_name():\n",
      "    set_up()\n",
      "    assert str(h.DEL().setName('TAG')) == '<TAG/>'\n",
      "\n",
      "def test_append_tag2_after_tag1():\n",
      "    assert str(h.tag(id=1).append(h.tag(id=2))) == '<tag id=\"1\"/><tag id=\"2\"/>'\n",
      "\n",
      "def test_prepend_tag2_before_tag1():\n",
      "    assert str(h.tag(id=1).prepend(h.tag(id=2))) == '<tag id=\"2\"/><tag id=\"1\"/>'\n",
      "\n",
      "def test_append_tag2_after_tag1_with_plus():\n",
      "    assert str(h.tag(id=1) + h.tag(id=2)) == '<tag id=\"1\"/><tag id=\"2\"/>'\n",
      "    \n",
      "def test_append_tag2_after_tag1_with_plus2():\n",
      "    tags = h.tag(id=1)\n",
      "    tags += h.tag(id=2)\n",
      "    assert str(tags) == '<tag id=\"1\"/><tag id=\"2\"/>'\n",
      "\n",
      "def test_append_three_tags_together():\n",
      "    assert str(h.tag(id=1) + h.tag(id=2) + h.tag(id=3)) == '<tag id=\"1\"/><tag id=\"2\"/><tag id=\"3\"/>'\n",
      "\n",
      "def test_append_number_tag_and_string_together():\n",
      "    assert str(1 + h.tag() + \"2\" + h.tag() + 3) == '1<tag/>2<tag/>3'\n",
      "\n",
      "tbl = None\n",
      "def set_up_table():\n",
      "    global tbl\n",
      "    tbl = table(Class='data')\n",
      "    \n",
      "def test_table():\n",
      "    set_up_table()\n",
      "    assert str(tbl) == '<table class=\"data\"/>'\n",
      "\n",
      "def test_table_caption():\n",
      "    set_up_table()\n",
      "    tbl.addCaption('Caption')\n",
      "    assert str(tbl) == '<table class=\"data\"><caption>Caption</caption></table>'\n",
      "\n",
      "def test_table_colgroup():\n",
      "    set_up_table()\n",
      "    tbl.addColGroup(h.col(), h.col())\n",
      "    assert str(tbl) == '<table class=\"data\"><colgroup><col/><col/></colgroup></table>'\n",
      "\n",
      "def test_table_head():\n",
      "    set_up_table()\n",
      "    tbl.addHeadRow(h.tr(h.th('head')))\n",
      "    assert str(tbl) == '<table class=\"data\"><thead><tr><th>head</th></tr></thead></table>'\n",
      "\n",
      "def test_table_foot():\n",
      "    set_up_table()\n",
      "    tbl.addFootRow(h.tr(h.td('foot')))\n",
      "    assert str(tbl) == '<table class=\"data\"><tfoot><tr><td>foot</td></tr></tfoot></table>'\n",
      "\n",
      "def test_table_body():\n",
      "    set_up_table()\n",
      "    tbl.addBodyRow(h.tr(h.td('body 1.1')))\n",
      "    tbl.addBodyRow(h.tr(h.td('body 1.2')))\n",
      "    assert str(tbl) == '<table class=\"data\"><tbody><tr><td>body 1.1</td></tr><tr><td>body 1.2</td></tr></tbody></table>'\n",
      "\n",
      "def test_table_bodies():\n",
      "    set_up_table()\n",
      "    tbl.addBodyRows(h.tr(h.td('body 2.1')))\n",
      "    tbl.addBodyRows(h.tr(h.td('body 3.1')))\n",
      "    assert str(tbl) == '<table class=\"data\"><tbody><tr><td>body 2.1</td></tr></tbody><tbody><tr><td>body 3.1</td></tr></tbody></table>'\n",
      "\n",
      "def test_whole_table():\n",
      "    t = get_table()\n",
      "    assert str(t) == '<table class=\"data\"><caption>Caption</caption><colgroup><col class=\"col1\"/><col class=\"col2\"/><col class=\"col3\"/></colgroup><thead><tr><th>Column 1</th><th>Column 2</th><th>Column 3</th></tr></thead><tfoot><tr><td colspan=\"3\">footer</td></tr></tfoot><tbody><tr><td>1.1</td><td>2.1</td><td>3.1</td></tr><tr><td>1.2</td><td>2.2</td><td>3.2</td></tr><tr><td>1.3</td><td>2.3</td><td>3.3</td></tr></tbody><tbody id=\"tbody4\"><tr><td>1.4</td><td>2.4</td><td>3.4</td></tr></tbody></table>'\n",
      "    \n",
      "def get_table():\n",
      "    \n",
      "    t = table(**{'class': 'data'})\n",
      "\n",
      "    t.addCaption('Caption')\n",
      "\n",
      "    columns = [{'class': 'col1'},\n",
      "               {'class': 'col2'},\n",
      "               {'class': 'col3'}]\n",
      "\n",
      "    t.addColGroup(*[h.col(**attr) for attr in columns])\n",
      "\n",
      "    header = ['Column 1', 'Column 2', 'Column 3']\n",
      "\n",
      "    t.addHeadRow(h.tr(*map(h.th, header)))\n",
      "\n",
      "    for i in range(1,4):\n",
      "        t.addBodyRow(h.tr(*map(h.td, [\"1.%s\"%i,\"2.%s\"%i,\"3.%s\"%i])))\n",
      "\n",
      "    for i in range(4,5):\n",
      "        t.addBodyRows(h.tr(*map(h.td, [\"1.%s\"%i,\"2.%s\"%i,\"3.%s\"%i])), id='tbody%s'%i)\n",
      "    \n",
      "    t.addFootRow(h.tr(h.td('footer', colspan=\"3\")))\n",
      "    \n",
      "    return t"
     ],
     "language": "python",
     "metadata": {},
     "outputs": [],
     "prompt_number": 3
    },
    {
     "cell_type": "heading",
     "level": 2,
     "metadata": {},
     "source": [
      "Show example table made with tagpy"
     ]
    },
    {
     "cell_type": "code",
     "collapsed": false,
     "input": [
      "from IPython.display import HTML\n",
      "HTML(str(get_table()))"
     ],
     "language": "python",
     "metadata": {},
     "outputs": [
      {
       "html": [
        "<table class=\"data\"><caption>Caption</caption><colgroup><col class=\"col1\"/><col class=\"col2\"/><col class=\"col3\"/></colgroup><thead><tr><th>Column 1</th><th>Column 2</th><th>Column 3</th></tr></thead><tfoot><tr><td colspan=\"3\">footer</td></tr></tfoot><tbody><tr><td>1.1</td><td>2.1</td><td>3.1</td></tr><tr><td>1.2</td><td>2.2</td><td>3.2</td></tr><tr><td>1.3</td><td>2.3</td><td>3.3</td></tr></tbody><tbody id=\"tbody4\"><tr><td>1.4</td><td>2.4</td><td>3.4</td></tr></tbody></table>"
       ],
       "metadata": {},
       "output_type": "pyout",
       "prompt_number": 4,
       "text": [
        "<IPython.core.display.HTML at 0x51b75f8>"
       ]
      }
     ],
     "prompt_number": 4
    },
    {
     "cell_type": "heading",
     "level": 2,
     "metadata": {},
     "source": [
      "Run actual tests"
     ]
    },
    {
     "cell_type": "code",
     "collapsed": false,
     "input": [
      "%runtests"
     ],
     "language": "python",
     "metadata": {},
     "outputs": [
      {
       "html": [
        "<table class=\"data\"><caption>Collected 39 tests.\n",
        "</caption><colgroup><col/><col/></colgroup><thead><tr><th>Test function name</th><th>Status</th></tr></thead><tfoot><tr><td class=\"right\">Successful</td><td>39</td></tr><tr><td class=\"right\">Failed</td><td>0</td></tr><tr><td class=\"right\">Errors</td><td>0</td></tr><tr><td class=\"right\">Excecution</td><td>0.002 seconds</td></tr></tfoot><tbody><tr class=\"successful\"><td>test_table</td><td>successful</td></tr><tr class=\"successful\"><td>test_table_head</td><td>successful</td></tr><tr class=\"successful\"><td>test_append_tag2_after_tag1_with_plus</td><td>successful</td></tr><tr class=\"successful\"><td>test_single_tag_without_content_and_attributes</td><td>successful</td></tr><tr class=\"successful\"><td>test_append_tag2_after_tag1_with_plus2</td><td>successful</td></tr><tr class=\"successful\"><td>test_append_tag2_after_tag1</td><td>successful</td></tr><tr class=\"successful\"><td>test_tag_argument_attribute_int</td><td>successful</td></tr><tr class=\"successful\"><td>test_tag_reserved_word_attribute</td><td>successful</td></tr><tr class=\"successful\"><td>test_table_foot</td><td>successful</td></tr><tr class=\"successful\"><td>test_append_three_tags_together</td><td>successful</td></tr><tr class=\"successful\"><td>test_tag_content_method</td><td>successful</td></tr><tr class=\"successful\"><td>test_tag_rcontent_method</td><td>successful</td></tr><tr class=\"successful\"><td>test_tag_is_tag</td><td>successful</td></tr><tr class=\"successful\"><td>test_tag_is_called_tag</td><td>successful</td></tr><tr class=\"successful\"><td>test_table_colgroup</td><td>successful</td></tr><tr class=\"successful\"><td>test_tag_reserve_word_set_name</td><td>successful</td></tr><tr class=\"successful\"><td>test_tag_with_tag_content</td><td>successful</td></tr><tr class=\"successful\"><td>test_tag_set_attribute</td><td>successful</td></tr><tr class=\"successful\"><td>test_string_uncalled_tag</td><td>successful</td></tr><tr class=\"successful\"><td>test_append_number_tag_and_string_together</td><td>successful</td></tr><tr class=\"successful\"><td>test_tag_with_list_args</td><td>successful</td></tr><tr class=\"successful\"><td>test_tag_argument_attribute_string</td><td>successful</td></tr><tr class=\"successful\"><td>test_prepend_tag2_before_tag1</td><td>successful</td></tr><tr class=\"successful\"><td>test_table_body</td><td>successful</td></tr><tr class=\"successful\"><td>test_tag_with_str_num_tag_content</td><td>successful</td></tr><tr class=\"successful\"><td>test_tag_with_text_content</td><td>successful</td></tr><tr class=\"successful\"><td>test_tag_with_lshift_tag_content</td><td>successful</td></tr><tr class=\"successful\"><td>test_tag_dictionary_attribute_string</td><td>successful</td></tr><tr class=\"successful\"><td>test_whole_table</td><td>successful</td></tr><tr class=\"successful\"><td>test_get_tag_name</td><td>successful</td></tr><tr class=\"successful\"><td>test_table_caption</td><td>successful</td></tr><tr class=\"successful\"><td>test_tag_with_two_args_tags</td><td>successful</td></tr><tr class=\"successful\"><td>test_tag_with_rshift_tag_content</td><td>successful</td></tr><tr class=\"successful\"><td>test_tag_get_attribute</td><td>successful</td></tr><tr class=\"successful\"><td>test_tag_with_uncalled_tag_content</td><td>successful</td></tr><tr class=\"successful\"><td>test_tag_reserve_word_name</td><td>successful</td></tr><tr class=\"successful\"><td>test_single_tag_with_empty_content</td><td>successful</td></tr><tr class=\"successful\"><td>test_tag_dictionary_attribute_int</td><td>successful</td></tr><tr class=\"successful\"><td>test_table_bodies</td><td>successful</td></tr></tbody></table>"
       ],
       "metadata": {},
       "output_type": "pyout",
       "prompt_number": 5,
       "text": [
        "<IPython.core.display.HTML at 0x51cbe80>"
       ]
      }
     ],
     "prompt_number": 5
    },
    {
     "cell_type": "heading",
     "level": 2,
     "metadata": {},
     "source": [
      "Styles for table"
     ]
    },
    {
     "cell_type": "code",
     "collapsed": false,
     "input": [
      "from IPython.core.display import HTML\n",
      "from urllib import urlopen\n",
      "url = \"https://raw.githubusercontent.com/markomanninen/tagtor/master/runtests.css\"\n",
      "HTML('<style type=\"text/css\">%s</style>' % urlopen(url).read())"
     ],
     "language": "python",
     "metadata": {},
     "outputs": [
      {
       "html": [
        "<style type=\"text/css\">Not Found</style>"
       ],
       "metadata": {},
       "output_type": "pyout",
       "prompt_number": 6,
       "text": [
        "<IPython.core.display.HTML at 0x54539b0>"
       ]
      }
     ],
     "prompt_number": 6
    },
    {
     "cell_type": "markdown",
     "metadata": {},
     "source": [
      "# The MIT License (MIT)\n",
      "\n",
      "Copyright (c) 2014 Marko Manninen\n",
      "\n",
      "Permission is hereby granted, free of charge, to any person obtaining a copy\n",
      "of this software and associated documentation files (the \"Software\"), to deal\n",
      "in the Software without restriction, including without limitation the rights\n",
      "to use, copy, modify, merge, publish, distribute, sublicense, and/or sell\n",
      "copies of the Software, and to permit persons to whom the Software is\n",
      "furnished to do so, subject to the following conditions:\n",
      "\n",
      "The above copyright notice and this permission notice shall be included in all\n",
      "copies or substantial portions of the Software.\n",
      "\n",
      "THE SOFTWARE IS PROVIDED \"AS IS\", WITHOUT WARRANTY OF ANY KIND, EXPRESS OR\n",
      "IMPLIED, INCLUDING BUT NOT LIMITED TO THE WARRANTIES OF MERCHANTABILITY,\n",
      "FITNESS FOR A PARTICULAR PURPOSE AND NONINFRINGEMENT. IN NO EVENT SHALL THE\n",
      "AUTHORS OR COPYRIGHT HOLDERS BE LIABLE FOR ANY CLAIM, DAMAGES OR OTHER\n",
      "LIABILITY, WHETHER IN AN ACTION OF CONTRACT, TORT OR OTHERWISE, ARISING FROM,\n",
      "OUT OF OR IN CONNECTION WITH THE SOFTWARE OR THE USE OR OTHER DEALINGS IN THE\n",
      "SOFTWARE."
     ]
    }
   ],
   "metadata": {}
  }
 ]
}